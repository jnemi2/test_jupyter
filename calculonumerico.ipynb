{
  "metadata": {
    "language_info": {
      "codemirror_mode": {
        "name": "python",
        "version": 3
      },
      "file_extension": ".py",
      "mimetype": "text/x-python",
      "name": "python",
      "nbconvert_exporter": "python",
      "pygments_lexer": "ipython3",
      "version": "3.8"
    },
    "kernelspec": {
      "name": "python",
      "display_name": "Python (Pyodide)",
      "language": "python"
    }
  },
  "nbformat_minor": 4,
  "nbformat": 4,
  "cells": [
    {
      "cell_type": "code",
      "source": "import math\nfrom sympy import *\n\nfrom decimal import Decimal\n\ndef derive(function, x0, h):\n    return ((Decimal(function(x0 + h)) - Decimal(function(x0))) / Decimal(h))\n\ndef sqx(x):\n    return x**2\n\ndef ex(x):\n    return math.e**(1/x)\n\nx= Symbol('x')\n\nfunction= math.e**(1/x)\nderiv= Derivative(function, x)\nprint(deriv.doit().subs({x:1/2}))\n\n\"\"\"x0 = 2\nprint(ex(x0))\n\nprint(derive(ex, x0, 0.0000000000000000000000000000000000000001))\n\nprint(derive(ex, x0, 0.00000001))\nprint(derive(ex, x0, 0.0000001))\nprint(derive(ex, x0, 0.000001))\nprint(derive(ex, x0, 0.00001))\nprint(derive(ex, x0, 0.0001))\nprint(derive(ex, x0, 0.001))\nprint(derive(ex, x0, 0.01))\nprint(derive(ex, x0, 0.1))\"\"\"",
      "metadata": {
        "trusted": true
      },
      "execution_count": 38,
      "outputs": [
        {
          "name": "stdout",
          "text": "-29.5562243957226\n",
          "output_type": "stream"
        },
        {
          "execution_count": 38,
          "output_type": "execute_result",
          "data": {
            "text/plain": "'x0 = 2\\nprint(ex(x0))\\n\\nprint(derive(ex, x0, 0.0000000000000000000000000000000000000001))\\n\\nprint(derive(ex, x0, 0.00000001))\\nprint(derive(ex, x0, 0.0000001))\\nprint(derive(ex, x0, 0.000001))\\nprint(derive(ex, x0, 0.00001))\\nprint(derive(ex, x0, 0.0001))\\nprint(derive(ex, x0, 0.001))\\nprint(derive(ex, x0, 0.01))\\nprint(derive(ex, x0, 0.1))'"
          },
          "metadata": {}
        }
      ]
    },
    {
      "cell_type": "code",
      "source": "",
      "metadata": {},
      "execution_count": null,
      "outputs": []
    },
    {
      "cell_type": "code",
      "source": "",
      "metadata": {},
      "execution_count": null,
      "outputs": []
    }
  ]
}